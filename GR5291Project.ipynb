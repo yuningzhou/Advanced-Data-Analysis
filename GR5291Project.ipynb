{
 "cells": [
  {
   "cell_type": "code",
   "execution_count": 1,
   "id": "043911e1",
   "metadata": {},
   "outputs": [],
   "source": [
    "import numpy as np\n",
    "import pandas as pd\n",
    "import matplotlib.pyplot as plt\n",
    "import seaborn as sns\n",
    "import calendar\n",
    "import plotly.express as px\n",
    "from pandas import Series,DataFrame\n",
    "from sklearn.preprocessing import MinMaxScaler\n",
    "from sklearn.preprocessing import StandardScaler\n",
    "from sklearn.model_selection import train_test_split\n",
    "from sklearn.neighbors import KNeighborsClassifier\n",
    "from sklearn.metrics import accuracy_score, confusion_matrix, classification_report\n",
    "from sklearn.linear_model import LogisticRegression\n",
    "from sklearn.tree import DecisionTreeClassifier\n",
    "from sklearn.ensemble import RandomForestClassifier,GradientBoostingClassifier\n",
    "from mlxtend.plotting import plot_decision_regions\n",
    "from sklearn.linear_model import LinearRegression\n",
    "from sklearn.model_selection import validation_curve\n",
    "from sklearn.metrics import roc_auc_score\n",
    "from sklearn.metrics import roc_curve\n",
    "from sklearn.dummy import DummyClassifier\n",
    "from sklearn.model_selection import cross_val_score"
   ]
  },
  {
   "cell_type": "code",
   "execution_count": 2,
   "id": "aa9724f5",
   "metadata": {},
   "outputs": [
    {
     "data": {
      "text/html": [
       "<div>\n",
       "<style scoped>\n",
       "    .dataframe tbody tr th:only-of-type {\n",
       "        vertical-align: middle;\n",
       "    }\n",
       "\n",
       "    .dataframe tbody tr th {\n",
       "        vertical-align: top;\n",
       "    }\n",
       "\n",
       "    .dataframe thead th {\n",
       "        text-align: right;\n",
       "    }\n",
       "</style>\n",
       "<table border=\"1\" class=\"dataframe\">\n",
       "  <thead>\n",
       "    <tr style=\"text-align: right;\">\n",
       "      <th></th>\n",
       "      <th>Unnamed: 0</th>\n",
       "      <th>LIMIT_BAL</th>\n",
       "      <th>SEX</th>\n",
       "      <th>EDUCATION</th>\n",
       "      <th>MARRIAGE</th>\n",
       "      <th>PAY_AMT1</th>\n",
       "      <th>PAY_AMT2</th>\n",
       "      <th>PAY_AMT3</th>\n",
       "      <th>PAY_AMT4</th>\n",
       "      <th>PAY_AMT5</th>\n",
       "      <th>PAY_AMT6</th>\n",
       "      <th>Bill_pca1</th>\n",
       "      <th>Bill_pca2</th>\n",
       "      <th>sumpay</th>\n",
       "      <th>age_new</th>\n",
       "      <th>default.payment.next.month</th>\n",
       "    </tr>\n",
       "  </thead>\n",
       "  <tbody>\n",
       "    <tr>\n",
       "      <th>0</th>\n",
       "      <td>1</td>\n",
       "      <td>20000.0</td>\n",
       "      <td>2</td>\n",
       "      <td>2</td>\n",
       "      <td>1</td>\n",
       "      <td>0.0</td>\n",
       "      <td>689.0</td>\n",
       "      <td>0.0</td>\n",
       "      <td>0.0</td>\n",
       "      <td>0.0</td>\n",
       "      <td>0.0</td>\n",
       "      <td>-1.614228</td>\n",
       "      <td>0.007532</td>\n",
       "      <td>-2</td>\n",
       "      <td>1</td>\n",
       "      <td>1</td>\n",
       "    </tr>\n",
       "    <tr>\n",
       "      <th>1</th>\n",
       "      <td>2</td>\n",
       "      <td>120000.0</td>\n",
       "      <td>2</td>\n",
       "      <td>2</td>\n",
       "      <td>2</td>\n",
       "      <td>0.0</td>\n",
       "      <td>1000.0</td>\n",
       "      <td>1000.0</td>\n",
       "      <td>1000.0</td>\n",
       "      <td>0.0</td>\n",
       "      <td>2000.0</td>\n",
       "      <td>-1.548731</td>\n",
       "      <td>-0.070423</td>\n",
       "      <td>3</td>\n",
       "      <td>1</td>\n",
       "      <td>1</td>\n",
       "    </tr>\n",
       "    <tr>\n",
       "      <th>2</th>\n",
       "      <td>3</td>\n",
       "      <td>90000.0</td>\n",
       "      <td>2</td>\n",
       "      <td>2</td>\n",
       "      <td>2</td>\n",
       "      <td>1518.0</td>\n",
       "      <td>1500.0</td>\n",
       "      <td>1000.0</td>\n",
       "      <td>1000.0</td>\n",
       "      <td>1000.0</td>\n",
       "      <td>5000.0</td>\n",
       "      <td>-1.022521</td>\n",
       "      <td>0.012090</td>\n",
       "      <td>0</td>\n",
       "      <td>2</td>\n",
       "      <td>0</td>\n",
       "    </tr>\n",
       "    <tr>\n",
       "      <th>3</th>\n",
       "      <td>4</td>\n",
       "      <td>50000.0</td>\n",
       "      <td>2</td>\n",
       "      <td>2</td>\n",
       "      <td>1</td>\n",
       "      <td>2000.0</td>\n",
       "      <td>2019.0</td>\n",
       "      <td>1200.0</td>\n",
       "      <td>1100.0</td>\n",
       "      <td>1069.0</td>\n",
       "      <td>1000.0</td>\n",
       "      <td>-0.215521</td>\n",
       "      <td>0.179939</td>\n",
       "      <td>0</td>\n",
       "      <td>2</td>\n",
       "      <td>0</td>\n",
       "    </tr>\n",
       "    <tr>\n",
       "      <th>4</th>\n",
       "      <td>5</td>\n",
       "      <td>50000.0</td>\n",
       "      <td>1</td>\n",
       "      <td>2</td>\n",
       "      <td>1</td>\n",
       "      <td>2000.0</td>\n",
       "      <td>36681.0</td>\n",
       "      <td>10000.0</td>\n",
       "      <td>9000.0</td>\n",
       "      <td>689.0</td>\n",
       "      <td>679.0</td>\n",
       "      <td>-0.952861</td>\n",
       "      <td>-0.236735</td>\n",
       "      <td>-2</td>\n",
       "      <td>3</td>\n",
       "      <td>0</td>\n",
       "    </tr>\n",
       "  </tbody>\n",
       "</table>\n",
       "</div>"
      ],
      "text/plain": [
       "   Unnamed: 0  LIMIT_BAL  SEX  EDUCATION  MARRIAGE  PAY_AMT1  PAY_AMT2  \\\n",
       "0           1    20000.0    2          2         1       0.0     689.0   \n",
       "1           2   120000.0    2          2         2       0.0    1000.0   \n",
       "2           3    90000.0    2          2         2    1518.0    1500.0   \n",
       "3           4    50000.0    2          2         1    2000.0    2019.0   \n",
       "4           5    50000.0    1          2         1    2000.0   36681.0   \n",
       "\n",
       "   PAY_AMT3  PAY_AMT4  PAY_AMT5  PAY_AMT6  Bill_pca1  Bill_pca2  sumpay  \\\n",
       "0       0.0       0.0       0.0       0.0  -1.614228   0.007532      -2   \n",
       "1    1000.0    1000.0       0.0    2000.0  -1.548731  -0.070423       3   \n",
       "2    1000.0    1000.0    1000.0    5000.0  -1.022521   0.012090       0   \n",
       "3    1200.0    1100.0    1069.0    1000.0  -0.215521   0.179939       0   \n",
       "4   10000.0    9000.0     689.0     679.0  -0.952861  -0.236735      -2   \n",
       "\n",
       "   age_new  default.payment.next.month  \n",
       "0        1                           1  \n",
       "1        1                           1  \n",
       "2        2                           0  \n",
       "3        2                           0  \n",
       "4        3                           0  "
      ]
     },
     "execution_count": 2,
     "metadata": {},
     "output_type": "execute_result"
    }
   ],
   "source": [
    "a=pd.read_csv('/Users/Jessie 1/Desktop/CU/Spring22/STAT5291/project/traindata.csv')\n",
    "a.head()"
   ]
  },
  {
   "cell_type": "code",
   "execution_count": 3,
   "id": "e2329364",
   "metadata": {
    "scrolled": true
   },
   "outputs": [
    {
     "data": {
      "text/plain": [
       "(20000, 16)"
      ]
     },
     "execution_count": 3,
     "metadata": {},
     "output_type": "execute_result"
    }
   ],
   "source": [
    "a.shape"
   ]
  },
  {
   "cell_type": "code",
   "execution_count": 4,
   "id": "b0538815",
   "metadata": {
    "scrolled": true
   },
   "outputs": [
    {
     "data": {
      "text/html": [
       "<div>\n",
       "<style scoped>\n",
       "    .dataframe tbody tr th:only-of-type {\n",
       "        vertical-align: middle;\n",
       "    }\n",
       "\n",
       "    .dataframe tbody tr th {\n",
       "        vertical-align: top;\n",
       "    }\n",
       "\n",
       "    .dataframe thead th {\n",
       "        text-align: right;\n",
       "    }\n",
       "</style>\n",
       "<table border=\"1\" class=\"dataframe\">\n",
       "  <thead>\n",
       "    <tr style=\"text-align: right;\">\n",
       "      <th></th>\n",
       "      <th>Unnamed: 0</th>\n",
       "      <th>LIMIT_BAL</th>\n",
       "      <th>SEX</th>\n",
       "      <th>EDUCATION</th>\n",
       "      <th>MARRIAGE</th>\n",
       "      <th>PAY_AMT1</th>\n",
       "      <th>PAY_AMT2</th>\n",
       "      <th>PAY_AMT3</th>\n",
       "      <th>PAY_AMT4</th>\n",
       "      <th>PAY_AMT5</th>\n",
       "      <th>PAY_AMT6</th>\n",
       "      <th>Bill_pca1</th>\n",
       "      <th>Bill_pca2</th>\n",
       "      <th>sumpay</th>\n",
       "      <th>age_new</th>\n",
       "      <th>default.payment.next.month</th>\n",
       "    </tr>\n",
       "  </thead>\n",
       "  <tbody>\n",
       "    <tr>\n",
       "      <th>count</th>\n",
       "      <td>20000.000000</td>\n",
       "      <td>20000.000000</td>\n",
       "      <td>20000.000000</td>\n",
       "      <td>20000.000000</td>\n",
       "      <td>20000.000000</td>\n",
       "      <td>20000.000000</td>\n",
       "      <td>2.000000e+04</td>\n",
       "      <td>20000.00000</td>\n",
       "      <td>20000.000000</td>\n",
       "      <td>20000.000000</td>\n",
       "      <td>20000.000000</td>\n",
       "      <td>2.000000e+04</td>\n",
       "      <td>2.000000e+04</td>\n",
       "      <td>20000.000000</td>\n",
       "      <td>20000.000000</td>\n",
       "      <td>20000.000000</td>\n",
       "    </tr>\n",
       "    <tr>\n",
       "      <th>mean</th>\n",
       "      <td>10000.500000</td>\n",
       "      <td>163301.184000</td>\n",
       "      <td>1.614050</td>\n",
       "      <td>1.836950</td>\n",
       "      <td>1.556650</td>\n",
       "      <td>5521.068200</td>\n",
       "      <td>5.746194e+03</td>\n",
       "      <td>4734.48815</td>\n",
       "      <td>4725.797750</td>\n",
       "      <td>4758.792600</td>\n",
       "      <td>5080.159350</td>\n",
       "      <td>-2.659000e-10</td>\n",
       "      <td>2.974000e-10</td>\n",
       "      <td>-0.911700</td>\n",
       "      <td>1.786950</td>\n",
       "      <td>0.227900</td>\n",
       "    </tr>\n",
       "    <tr>\n",
       "      <th>std</th>\n",
       "      <td>5773.647028</td>\n",
       "      <td>128746.703255</td>\n",
       "      <td>0.486831</td>\n",
       "      <td>0.769542</td>\n",
       "      <td>0.522785</td>\n",
       "      <td>15250.374823</td>\n",
       "      <td>2.151862e+04</td>\n",
       "      <td>15823.31417</td>\n",
       "      <td>15180.461542</td>\n",
       "      <td>15447.369651</td>\n",
       "      <td>17306.821534</td>\n",
       "      <td>2.332610e+00</td>\n",
       "      <td>5.458417e-01</td>\n",
       "      <td>5.910402</td>\n",
       "      <td>0.712941</td>\n",
       "      <td>0.419488</td>\n",
       "    </tr>\n",
       "    <tr>\n",
       "      <th>min</th>\n",
       "      <td>1.000000</td>\n",
       "      <td>10000.000000</td>\n",
       "      <td>1.000000</td>\n",
       "      <td>0.000000</td>\n",
       "      <td>0.000000</td>\n",
       "      <td>0.000000</td>\n",
       "      <td>0.000000e+00</td>\n",
       "      <td>0.00000</td>\n",
       "      <td>0.000000</td>\n",
       "      <td>0.000000</td>\n",
       "      <td>0.000000</td>\n",
       "      <td>-3.966195e+00</td>\n",
       "      <td>-6.787384e+00</td>\n",
       "      <td>-12.000000</td>\n",
       "      <td>1.000000</td>\n",
       "      <td>0.000000</td>\n",
       "    </tr>\n",
       "    <tr>\n",
       "      <th>25%</th>\n",
       "      <td>5000.750000</td>\n",
       "      <td>50000.000000</td>\n",
       "      <td>1.000000</td>\n",
       "      <td>1.000000</td>\n",
       "      <td>1.000000</td>\n",
       "      <td>967.750000</td>\n",
       "      <td>7.407500e+02</td>\n",
       "      <td>322.00000</td>\n",
       "      <td>237.750000</td>\n",
       "      <td>216.000000</td>\n",
       "      <td>10.000000</td>\n",
       "      <td>-1.473567e+00</td>\n",
       "      <td>-1.630588e-01</td>\n",
       "      <td>-5.000000</td>\n",
       "      <td>1.000000</td>\n",
       "      <td>0.000000</td>\n",
       "    </tr>\n",
       "    <tr>\n",
       "      <th>50%</th>\n",
       "      <td>10000.500000</td>\n",
       "      <td>130000.000000</td>\n",
       "      <td>2.000000</td>\n",
       "      <td>2.000000</td>\n",
       "      <td>2.000000</td>\n",
       "      <td>2084.000000</td>\n",
       "      <td>2.000000e+03</td>\n",
       "      <td>1593.00000</td>\n",
       "      <td>1496.500000</td>\n",
       "      <td>1500.000000</td>\n",
       "      <td>1407.000000</td>\n",
       "      <td>-8.645734e-01</td>\n",
       "      <td>-4.536477e-02</td>\n",
       "      <td>0.000000</td>\n",
       "      <td>2.000000</td>\n",
       "      <td>0.000000</td>\n",
       "    </tr>\n",
       "    <tr>\n",
       "      <th>75%</th>\n",
       "      <td>15000.250000</td>\n",
       "      <td>230000.000000</td>\n",
       "      <td>2.000000</td>\n",
       "      <td>2.000000</td>\n",
       "      <td>2.000000</td>\n",
       "      <td>5000.000000</td>\n",
       "      <td>5.000000e+03</td>\n",
       "      <td>4054.50000</td>\n",
       "      <td>4000.000000</td>\n",
       "      <td>4000.000000</td>\n",
       "      <td>4000.000000</td>\n",
       "      <td>4.436441e-01</td>\n",
       "      <td>9.790291e-02</td>\n",
       "      <td>0.000000</td>\n",
       "      <td>2.000000</td>\n",
       "      <td>0.000000</td>\n",
       "    </tr>\n",
       "    <tr>\n",
       "      <th>max</th>\n",
       "      <td>20000.000000</td>\n",
       "      <td>1000000.000000</td>\n",
       "      <td>2.000000</td>\n",
       "      <td>6.000000</td>\n",
       "      <td>3.000000</td>\n",
       "      <td>505000.000000</td>\n",
       "      <td>1.684259e+06</td>\n",
       "      <td>896040.00000</td>\n",
       "      <td>497000.000000</td>\n",
       "      <td>417990.000000</td>\n",
       "      <td>528666.000000</td>\n",
       "      <td>3.183719e+01</td>\n",
       "      <td>7.093761e+00</td>\n",
       "      <td>36.000000</td>\n",
       "      <td>4.000000</td>\n",
       "      <td>1.000000</td>\n",
       "    </tr>\n",
       "  </tbody>\n",
       "</table>\n",
       "</div>"
      ],
      "text/plain": [
       "         Unnamed: 0       LIMIT_BAL           SEX     EDUCATION      MARRIAGE  \\\n",
       "count  20000.000000    20000.000000  20000.000000  20000.000000  20000.000000   \n",
       "mean   10000.500000   163301.184000      1.614050      1.836950      1.556650   \n",
       "std     5773.647028   128746.703255      0.486831      0.769542      0.522785   \n",
       "min        1.000000    10000.000000      1.000000      0.000000      0.000000   \n",
       "25%     5000.750000    50000.000000      1.000000      1.000000      1.000000   \n",
       "50%    10000.500000   130000.000000      2.000000      2.000000      2.000000   \n",
       "75%    15000.250000   230000.000000      2.000000      2.000000      2.000000   \n",
       "max    20000.000000  1000000.000000      2.000000      6.000000      3.000000   \n",
       "\n",
       "            PAY_AMT1      PAY_AMT2      PAY_AMT3       PAY_AMT4  \\\n",
       "count   20000.000000  2.000000e+04   20000.00000   20000.000000   \n",
       "mean     5521.068200  5.746194e+03    4734.48815    4725.797750   \n",
       "std     15250.374823  2.151862e+04   15823.31417   15180.461542   \n",
       "min         0.000000  0.000000e+00       0.00000       0.000000   \n",
       "25%       967.750000  7.407500e+02     322.00000     237.750000   \n",
       "50%      2084.000000  2.000000e+03    1593.00000    1496.500000   \n",
       "75%      5000.000000  5.000000e+03    4054.50000    4000.000000   \n",
       "max    505000.000000  1.684259e+06  896040.00000  497000.000000   \n",
       "\n",
       "            PAY_AMT5       PAY_AMT6     Bill_pca1     Bill_pca2        sumpay  \\\n",
       "count   20000.000000   20000.000000  2.000000e+04  2.000000e+04  20000.000000   \n",
       "mean     4758.792600    5080.159350 -2.659000e-10  2.974000e-10     -0.911700   \n",
       "std     15447.369651   17306.821534  2.332610e+00  5.458417e-01      5.910402   \n",
       "min         0.000000       0.000000 -3.966195e+00 -6.787384e+00    -12.000000   \n",
       "25%       216.000000      10.000000 -1.473567e+00 -1.630588e-01     -5.000000   \n",
       "50%      1500.000000    1407.000000 -8.645734e-01 -4.536477e-02      0.000000   \n",
       "75%      4000.000000    4000.000000  4.436441e-01  9.790291e-02      0.000000   \n",
       "max    417990.000000  528666.000000  3.183719e+01  7.093761e+00     36.000000   \n",
       "\n",
       "            age_new  default.payment.next.month  \n",
       "count  20000.000000                20000.000000  \n",
       "mean       1.786950                    0.227900  \n",
       "std        0.712941                    0.419488  \n",
       "min        1.000000                    0.000000  \n",
       "25%        1.000000                    0.000000  \n",
       "50%        2.000000                    0.000000  \n",
       "75%        2.000000                    0.000000  \n",
       "max        4.000000                    1.000000  "
      ]
     },
     "execution_count": 4,
     "metadata": {},
     "output_type": "execute_result"
    }
   ],
   "source": [
    "a.describe()"
   ]
  },
  {
   "cell_type": "code",
   "execution_count": 5,
   "id": "6e1877c0",
   "metadata": {
    "scrolled": true
   },
   "outputs": [
    {
     "data": {
      "text/html": [
       "<div>\n",
       "<style scoped>\n",
       "    .dataframe tbody tr th:only-of-type {\n",
       "        vertical-align: middle;\n",
       "    }\n",
       "\n",
       "    .dataframe tbody tr th {\n",
       "        vertical-align: top;\n",
       "    }\n",
       "\n",
       "    .dataframe thead th {\n",
       "        text-align: right;\n",
       "    }\n",
       "</style>\n",
       "<table border=\"1\" class=\"dataframe\">\n",
       "  <thead>\n",
       "    <tr style=\"text-align: right;\">\n",
       "      <th></th>\n",
       "      <th>Unnamed: 0</th>\n",
       "      <th>LIMIT_BAL</th>\n",
       "      <th>SEX</th>\n",
       "      <th>EDUCATION</th>\n",
       "      <th>MARRIAGE</th>\n",
       "      <th>PAY_AMT1</th>\n",
       "      <th>PAY_AMT2</th>\n",
       "      <th>PAY_AMT3</th>\n",
       "      <th>PAY_AMT4</th>\n",
       "      <th>PAY_AMT5</th>\n",
       "      <th>PAY_AMT6</th>\n",
       "      <th>Bill_pca1</th>\n",
       "      <th>Bill_pca2</th>\n",
       "      <th>sumpay</th>\n",
       "      <th>age_new</th>\n",
       "      <th>default_payment_next_month</th>\n",
       "    </tr>\n",
       "  </thead>\n",
       "  <tbody>\n",
       "    <tr>\n",
       "      <th>0</th>\n",
       "      <td>1</td>\n",
       "      <td>20000.0</td>\n",
       "      <td>2</td>\n",
       "      <td>2</td>\n",
       "      <td>1</td>\n",
       "      <td>0.0</td>\n",
       "      <td>689.0</td>\n",
       "      <td>0.0</td>\n",
       "      <td>0.0</td>\n",
       "      <td>0.0</td>\n",
       "      <td>0.0</td>\n",
       "      <td>-1.614228</td>\n",
       "      <td>0.007532</td>\n",
       "      <td>-2</td>\n",
       "      <td>1</td>\n",
       "      <td>1</td>\n",
       "    </tr>\n",
       "    <tr>\n",
       "      <th>1</th>\n",
       "      <td>2</td>\n",
       "      <td>120000.0</td>\n",
       "      <td>2</td>\n",
       "      <td>2</td>\n",
       "      <td>2</td>\n",
       "      <td>0.0</td>\n",
       "      <td>1000.0</td>\n",
       "      <td>1000.0</td>\n",
       "      <td>1000.0</td>\n",
       "      <td>0.0</td>\n",
       "      <td>2000.0</td>\n",
       "      <td>-1.548731</td>\n",
       "      <td>-0.070423</td>\n",
       "      <td>3</td>\n",
       "      <td>1</td>\n",
       "      <td>1</td>\n",
       "    </tr>\n",
       "    <tr>\n",
       "      <th>2</th>\n",
       "      <td>3</td>\n",
       "      <td>90000.0</td>\n",
       "      <td>2</td>\n",
       "      <td>2</td>\n",
       "      <td>2</td>\n",
       "      <td>1518.0</td>\n",
       "      <td>1500.0</td>\n",
       "      <td>1000.0</td>\n",
       "      <td>1000.0</td>\n",
       "      <td>1000.0</td>\n",
       "      <td>5000.0</td>\n",
       "      <td>-1.022521</td>\n",
       "      <td>0.012090</td>\n",
       "      <td>0</td>\n",
       "      <td>2</td>\n",
       "      <td>0</td>\n",
       "    </tr>\n",
       "    <tr>\n",
       "      <th>3</th>\n",
       "      <td>4</td>\n",
       "      <td>50000.0</td>\n",
       "      <td>2</td>\n",
       "      <td>2</td>\n",
       "      <td>1</td>\n",
       "      <td>2000.0</td>\n",
       "      <td>2019.0</td>\n",
       "      <td>1200.0</td>\n",
       "      <td>1100.0</td>\n",
       "      <td>1069.0</td>\n",
       "      <td>1000.0</td>\n",
       "      <td>-0.215521</td>\n",
       "      <td>0.179939</td>\n",
       "      <td>0</td>\n",
       "      <td>2</td>\n",
       "      <td>0</td>\n",
       "    </tr>\n",
       "    <tr>\n",
       "      <th>4</th>\n",
       "      <td>5</td>\n",
       "      <td>50000.0</td>\n",
       "      <td>1</td>\n",
       "      <td>2</td>\n",
       "      <td>1</td>\n",
       "      <td>2000.0</td>\n",
       "      <td>36681.0</td>\n",
       "      <td>10000.0</td>\n",
       "      <td>9000.0</td>\n",
       "      <td>689.0</td>\n",
       "      <td>679.0</td>\n",
       "      <td>-0.952861</td>\n",
       "      <td>-0.236735</td>\n",
       "      <td>-2</td>\n",
       "      <td>3</td>\n",
       "      <td>0</td>\n",
       "    </tr>\n",
       "    <tr>\n",
       "      <th>...</th>\n",
       "      <td>...</td>\n",
       "      <td>...</td>\n",
       "      <td>...</td>\n",
       "      <td>...</td>\n",
       "      <td>...</td>\n",
       "      <td>...</td>\n",
       "      <td>...</td>\n",
       "      <td>...</td>\n",
       "      <td>...</td>\n",
       "      <td>...</td>\n",
       "      <td>...</td>\n",
       "      <td>...</td>\n",
       "      <td>...</td>\n",
       "      <td>...</td>\n",
       "      <td>...</td>\n",
       "      <td>...</td>\n",
       "    </tr>\n",
       "    <tr>\n",
       "      <th>19995</th>\n",
       "      <td>19996</td>\n",
       "      <td>130000.0</td>\n",
       "      <td>2</td>\n",
       "      <td>2</td>\n",
       "      <td>1</td>\n",
       "      <td>5400.0</td>\n",
       "      <td>6950.0</td>\n",
       "      <td>4600.0</td>\n",
       "      <td>4000.0</td>\n",
       "      <td>2000.0</td>\n",
       "      <td>2300.0</td>\n",
       "      <td>2.474786</td>\n",
       "      <td>0.299171</td>\n",
       "      <td>0</td>\n",
       "      <td>2</td>\n",
       "      <td>0</td>\n",
       "    </tr>\n",
       "    <tr>\n",
       "      <th>19996</th>\n",
       "      <td>19997</td>\n",
       "      <td>60000.0</td>\n",
       "      <td>2</td>\n",
       "      <td>2</td>\n",
       "      <td>1</td>\n",
       "      <td>3000.0</td>\n",
       "      <td>2570.0</td>\n",
       "      <td>2202.0</td>\n",
       "      <td>1200.0</td>\n",
       "      <td>1100.0</td>\n",
       "      <td>1100.0</td>\n",
       "      <td>0.117506</td>\n",
       "      <td>0.283361</td>\n",
       "      <td>0</td>\n",
       "      <td>2</td>\n",
       "      <td>1</td>\n",
       "    </tr>\n",
       "    <tr>\n",
       "      <th>19997</th>\n",
       "      <td>19998</td>\n",
       "      <td>290000.0</td>\n",
       "      <td>2</td>\n",
       "      <td>2</td>\n",
       "      <td>1</td>\n",
       "      <td>0.0</td>\n",
       "      <td>0.0</td>\n",
       "      <td>9194.0</td>\n",
       "      <td>0.0</td>\n",
       "      <td>399.0</td>\n",
       "      <td>9290.0</td>\n",
       "      <td>-1.519021</td>\n",
       "      <td>-0.129825</td>\n",
       "      <td>-6</td>\n",
       "      <td>2</td>\n",
       "      <td>0</td>\n",
       "    </tr>\n",
       "    <tr>\n",
       "      <th>19998</th>\n",
       "      <td>19999</td>\n",
       "      <td>150000.0</td>\n",
       "      <td>2</td>\n",
       "      <td>2</td>\n",
       "      <td>1</td>\n",
       "      <td>3000.0</td>\n",
       "      <td>2306.0</td>\n",
       "      <td>2610.0</td>\n",
       "      <td>0.0</td>\n",
       "      <td>620.0</td>\n",
       "      <td>0.0</td>\n",
       "      <td>-1.588205</td>\n",
       "      <td>0.006944</td>\n",
       "      <td>-4</td>\n",
       "      <td>2</td>\n",
       "      <td>0</td>\n",
       "    </tr>\n",
       "    <tr>\n",
       "      <th>19999</th>\n",
       "      <td>20000</td>\n",
       "      <td>240000.0</td>\n",
       "      <td>2</td>\n",
       "      <td>2</td>\n",
       "      <td>1</td>\n",
       "      <td>0.0</td>\n",
       "      <td>14015.0</td>\n",
       "      <td>0.0</td>\n",
       "      <td>1317.0</td>\n",
       "      <td>0.0</td>\n",
       "      <td>0.0</td>\n",
       "      <td>-1.544952</td>\n",
       "      <td>-0.009068</td>\n",
       "      <td>-2</td>\n",
       "      <td>2</td>\n",
       "      <td>0</td>\n",
       "    </tr>\n",
       "  </tbody>\n",
       "</table>\n",
       "<p>20000 rows × 16 columns</p>\n",
       "</div>"
      ],
      "text/plain": [
       "       Unnamed: 0  LIMIT_BAL  SEX  EDUCATION  MARRIAGE  PAY_AMT1  PAY_AMT2  \\\n",
       "0               1    20000.0    2          2         1       0.0     689.0   \n",
       "1               2   120000.0    2          2         2       0.0    1000.0   \n",
       "2               3    90000.0    2          2         2    1518.0    1500.0   \n",
       "3               4    50000.0    2          2         1    2000.0    2019.0   \n",
       "4               5    50000.0    1          2         1    2000.0   36681.0   \n",
       "...           ...        ...  ...        ...       ...       ...       ...   \n",
       "19995       19996   130000.0    2          2         1    5400.0    6950.0   \n",
       "19996       19997    60000.0    2          2         1    3000.0    2570.0   \n",
       "19997       19998   290000.0    2          2         1       0.0       0.0   \n",
       "19998       19999   150000.0    2          2         1    3000.0    2306.0   \n",
       "19999       20000   240000.0    2          2         1       0.0   14015.0   \n",
       "\n",
       "       PAY_AMT3  PAY_AMT4  PAY_AMT5  PAY_AMT6  Bill_pca1  Bill_pca2  sumpay  \\\n",
       "0           0.0       0.0       0.0       0.0  -1.614228   0.007532      -2   \n",
       "1        1000.0    1000.0       0.0    2000.0  -1.548731  -0.070423       3   \n",
       "2        1000.0    1000.0    1000.0    5000.0  -1.022521   0.012090       0   \n",
       "3        1200.0    1100.0    1069.0    1000.0  -0.215521   0.179939       0   \n",
       "4       10000.0    9000.0     689.0     679.0  -0.952861  -0.236735      -2   \n",
       "...         ...       ...       ...       ...        ...        ...     ...   \n",
       "19995    4600.0    4000.0    2000.0    2300.0   2.474786   0.299171       0   \n",
       "19996    2202.0    1200.0    1100.0    1100.0   0.117506   0.283361       0   \n",
       "19997    9194.0       0.0     399.0    9290.0  -1.519021  -0.129825      -6   \n",
       "19998    2610.0       0.0     620.0       0.0  -1.588205   0.006944      -4   \n",
       "19999       0.0    1317.0       0.0       0.0  -1.544952  -0.009068      -2   \n",
       "\n",
       "       age_new  default_payment_next_month  \n",
       "0            1                           1  \n",
       "1            1                           1  \n",
       "2            2                           0  \n",
       "3            2                           0  \n",
       "4            3                           0  \n",
       "...        ...                         ...  \n",
       "19995        2                           0  \n",
       "19996        2                           1  \n",
       "19997        2                           0  \n",
       "19998        2                           0  \n",
       "19999        2                           0  \n",
       "\n",
       "[20000 rows x 16 columns]"
      ]
     },
     "execution_count": 5,
     "metadata": {},
     "output_type": "execute_result"
    }
   ],
   "source": [
    "X = a.iloc[:,: -1]\n",
    "\n",
    "# rename y \n",
    "a = a.rename(columns={\"default.payment.next.month\": \"default_payment_next_month\"})\n",
    "a"
   ]
  },
  {
   "cell_type": "code",
   "execution_count": 6,
   "id": "cf7252a8",
   "metadata": {},
   "outputs": [
    {
     "data": {
      "text/plain": [
       "0    15442\n",
       "1     4558\n",
       "Name: default_payment_next_month, dtype: int64"
      ]
     },
     "execution_count": 6,
     "metadata": {},
     "output_type": "execute_result"
    }
   ],
   "source": [
    "# drop the last column - default.payment.next.month\n",
    "X = a.iloc[:,: -1]\n",
    "y_c = a['default_payment_next_month']\n",
    "\n",
    "zscore = lambda x: (x-x.mean()) / x.std()\n",
    "\n",
    "X_zscore = X.apply(zscore,axis=0)\n",
    "default_zscore = zscore(a.default_payment_next_month)\n",
    "\n",
    "y_c.value_counts().sort_index()"
   ]
  },
  {
   "cell_type": "code",
   "execution_count": 7,
   "id": "bbb92c36",
   "metadata": {},
   "outputs": [],
   "source": [
    "# treat columns sex, education, marriage, and sumpay as catogrical variables\n",
    "a[\"SEX\"] = pd.Categorical(a[\"SEX\"])\n",
    "a[\"EDUCATION\"] = pd.Categorical(a[\"EDUCATION\"])\n",
    "a[\"MARRIAGE\"] = pd.Categorical(a[\"MARRIAGE\"])\n",
    "a[\"sumpay\"] = pd.Categorical(a[\"sumpay\"])\n",
    "\n",
    "X = a.iloc[:,: -1]\n",
    "y = a['default_payment_next_month']\n",
    "\n",
    "X_train, X_test, y_train, y_test = train_test_split(X, y, test_size = 0.30)"
   ]
  },
  {
   "cell_type": "code",
   "execution_count": 8,
   "id": "8d28c0cd",
   "metadata": {},
   "outputs": [
    {
     "name": "stdout",
     "output_type": "stream",
     "text": [
      "Unnamed: 0                       int64\n",
      "LIMIT_BAL                      float64\n",
      "SEX                           category\n",
      "EDUCATION                     category\n",
      "MARRIAGE                      category\n",
      "PAY_AMT1                       float64\n",
      "PAY_AMT2                       float64\n",
      "PAY_AMT3                       float64\n",
      "PAY_AMT4                       float64\n",
      "PAY_AMT5                       float64\n",
      "PAY_AMT6                       float64\n",
      "Bill_pca1                      float64\n",
      "Bill_pca2                      float64\n",
      "sumpay                        category\n",
      "age_new                          int64\n",
      "default_payment_next_month       int64\n",
      "dtype: object\n"
     ]
    }
   ],
   "source": [
    "print(a.dtypes)"
   ]
  },
  {
   "cell_type": "code",
   "execution_count": 9,
   "id": "cbd85fdf",
   "metadata": {},
   "outputs": [
    {
     "data": {
      "text/plain": [
       "Index(['Unnamed: 0', 'LIMIT_BAL', 'SEX', 'EDUCATION', 'MARRIAGE', 'PAY_AMT1',\n",
       "       'PAY_AMT2', 'PAY_AMT3', 'PAY_AMT4', 'PAY_AMT5', 'PAY_AMT6', 'Bill_pca1',\n",
       "       'Bill_pca2', 'sumpay', 'age_new', 'default_payment_next_month'],\n",
       "      dtype='object')"
      ]
     },
     "execution_count": 9,
     "metadata": {},
     "output_type": "execute_result"
    }
   ],
   "source": [
    "a.columns"
   ]
  },
  {
   "cell_type": "code",
   "execution_count": 10,
   "id": "72fa7239",
   "metadata": {},
   "outputs": [],
   "source": [
    "Model = []\n",
    "Accuracy = []"
   ]
  },
  {
   "cell_type": "code",
   "execution_count": 11,
   "id": "b0cdb990",
   "metadata": {},
   "outputs": [
    {
     "name": "stdout",
     "output_type": "stream",
     "text": [
      "Accuracy is : 0.7436666666666667\n",
      "Classification Report : \n",
      "              precision    recall  f1-score   support\n",
      "\n",
      "           0       0.79      0.91      0.85      4668\n",
      "           1       0.33      0.16      0.21      1332\n",
      "\n",
      "    accuracy                           0.74      6000\n",
      "   macro avg       0.56      0.53      0.53      6000\n",
      "weighted avg       0.69      0.74      0.71      6000\n",
      "\n"
     ]
    },
    {
     "data": {
      "image/png": "[encoded data removed]",
      "text/plain": [
       "<Figure size 432x288 with 2 Axes>"
      ]
     },
     "metadata": {
      "needs_background": "light"
     },
     "output_type": "display_data"
    }
   ],
   "source": [
    "knn = KNeighborsClassifier()\n",
    "knn.fit(X_train, y_train)\n",
    "y_pred = knn.predict(X_test)\n",
    "\n",
    "acc = accuracy_score(y_test, y_pred)\n",
    "report = classification_report(y_test, y_pred)\n",
    "matrix = confusion_matrix(y_test, y_pred)\n",
    "\n",
    "print(f\"Accuracy is : {acc}\")\n",
    "print(f\"Classification Report : \\n{report}\")\n",
    "ax = sns.heatmap(matrix, annot=True, cmap='Blues') \n",
    "ax.set_title('Confusion Matrix');\n",
    "plt.show()\n",
    "\n",
    "Model.append('KNN')\n",
    "Accuracy.append(acc)"
   ]
  },
  {
   "cell_type": "code",
   "execution_count": 12,
   "id": "5873d071",
   "metadata": {},
   "outputs": [
    {
     "name": "stdout",
     "output_type": "stream",
     "text": [
      "Accuracy is : 0.797\n",
      "Classification Report : \n",
      "              precision    recall  f1-score   support\n",
      "\n",
      "           0       0.81      0.97      0.88      4668\n",
      "           1       0.63      0.20      0.31      1332\n",
      "\n",
      "    accuracy                           0.80      6000\n",
      "   macro avg       0.72      0.59      0.60      6000\n",
      "weighted avg       0.77      0.80      0.75      6000\n",
      "\n"
     ]
    },
    {
     "data": {
      "image/png": "[encoded data removed]",
      "text/plain": [
       "<Figure size 432x288 with 2 Axes>"
      ]
     },
     "metadata": {
      "needs_background": "light"
     },
     "output_type": "display_data"
    }
   ],
   "source": [
    "lr = LogisticRegression()\n",
    "lr.fit(X_train, y_train)\n",
    "y_pred = lr.predict(X_test)\n",
    "\n",
    "acc = accuracy_score(y_test, y_pred)\n",
    "report = classification_report(y_test, y_pred)\n",
    "matrix = confusion_matrix(y_test, y_pred)\n",
    "\n",
    "print(f\"Accuracy is : {acc}\")\n",
    "print(f\"Classification Report : \\n{report}\")\n",
    "ax = sns.heatmap(matrix, annot=True, cmap='Blues') \n",
    "ax.set_title('Confusion Matrix');\n",
    "plt.show()\n",
    "\n",
    "Model.append('LR')\n",
    "Accuracy.append(acc)"
   ]
  },
  {
   "cell_type": "code",
   "execution_count": 13,
   "id": "d0954681",
   "metadata": {},
   "outputs": [
    {
     "name": "stdout",
     "output_type": "stream",
     "text": [
      "Accuracy is : 0.7083333333333334\n",
      "Classification Report : \n",
      "              precision    recall  f1-score   support\n",
      "\n",
      "           0       0.82      0.80      0.81      4668\n",
      "           1       0.36      0.40      0.38      1332\n",
      "\n",
      "    accuracy                           0.71      6000\n",
      "   macro avg       0.59      0.60      0.59      6000\n",
      "weighted avg       0.72      0.71      0.71      6000\n",
      "\n"
     ]
    },
    {
     "data": {
      "image/png": "[encoded data removed]",
      "text/plain": [
       "<Figure size 432x288 with 2 Axes>"
      ]
     },
     "metadata": {
      "needs_background": "light"
     },
     "output_type": "display_data"
    }
   ],
   "source": [
    "dt = DecisionTreeClassifier()\n",
    "dt.fit(X_train, y_train)\n",
    "y_pred = dt.predict(X_test)\n",
    "\n",
    "acc = accuracy_score(y_test, y_pred)\n",
    "report = classification_report(y_test, y_pred)\n",
    "matrix = confusion_matrix(y_test, y_pred)\n",
    "\n",
    "print(f\"Accuracy is : {acc}\")\n",
    "print(f\"Classification Report : \\n{report}\")\n",
    "ax = sns.heatmap(matrix, annot=True, cmap='Blues') \n",
    "ax.set_title('Confusion Matrix');\n",
    "plt.show()\n",
    "\n",
    "Model.append('DT')\n",
    "Accuracy.append(acc)"
   ]
  },
  {
   "cell_type": "code",
   "execution_count": 14,
   "id": "5f216d78",
   "metadata": {},
   "outputs": [
    {
     "name": "stdout",
     "output_type": "stream",
     "text": [
      "Accuracy is : 0.7975\n",
      "Classification Report : \n",
      "              precision    recall  f1-score   support\n",
      "\n",
      "           0       0.82      0.94      0.88      4668\n",
      "           1       0.59      0.30      0.40      1332\n",
      "\n",
      "    accuracy                           0.80      6000\n",
      "   macro avg       0.71      0.62      0.64      6000\n",
      "weighted avg       0.77      0.80      0.77      6000\n",
      "\n"
     ]
    },
    {
     "data": {
      "image/png": "[encoded data removed]",
      "text/plain": [
       "<Figure size 432x288 with 2 Axes>"
      ]
     },
     "metadata": {
      "needs_background": "light"
     },
     "output_type": "display_data"
    }
   ],
   "source": [
    "rf = RandomForestClassifier()\n",
    "rf.fit(X_train, y_train)\n",
    "\n",
    "y_pred = rf.predict(X_test)\n",
    "\n",
    "acc = accuracy_score(y_test, y_pred)\n",
    "report = classification_report(y_test, y_pred)\n",
    "matrix = confusion_matrix(y_test, y_pred)\n",
    "\n",
    "print(f\"Accuracy is : {acc}\")\n",
    "print(f\"Classification Report : \\n{report}\")\n",
    "ax = sns.heatmap(matrix, annot=True, cmap='Blues') \n",
    "ax.set_title('Confusion Matrix');\n",
    "plt.show()\n",
    "\n",
    "Model.append('RF')\n",
    "Accuracy.append(acc)"
   ]
  },
  {
   "cell_type": "code",
   "execution_count": 15,
   "id": "050f113b",
   "metadata": {},
   "outputs": [
    {
     "name": "stdout",
     "output_type": "stream",
     "text": [
      "Accuracy is : 0.8005\n",
      "Classification Report : \n",
      "              precision    recall  f1-score   support\n",
      "\n",
      "           0       0.83      0.94      0.88      4668\n",
      "           1       0.60      0.31      0.41      1332\n",
      "\n",
      "    accuracy                           0.80      6000\n",
      "   macro avg       0.71      0.62      0.64      6000\n",
      "weighted avg       0.78      0.80      0.77      6000\n",
      "\n"
     ]
    },
    {
     "data": {
      "image/png": "[encoded data removed]",
      "text/plain": [
       "<Figure size 432x288 with 2 Axes>"
      ]
     },
     "metadata": {
      "needs_background": "light"
     },
     "output_type": "display_data"
    }
   ],
   "source": [
    "gb = GradientBoostingClassifier()\n",
    "gb.fit(X_train, y_train)\n",
    "\n",
    "y_pred = gb.predict(X_test)\n",
    "\n",
    "acc = accuracy_score(y_test, y_pred)\n",
    "report = classification_report(y_test, y_pred)\n",
    "matrix = confusion_matrix(y_test, y_pred)\n",
    "\n",
    "print(f\"Accuracy is : {acc}\")\n",
    "print(f\"Classification Report : \\n{report}\")\n",
    "ax = sns.heatmap(matrix, annot=True, cmap='Blues') \n",
    "ax.set_title('Confusion Matrix');\n",
    "plt.show()\n",
    "\n",
    "Model.append('GB')\n",
    "Accuracy.append(acc)"
   ]
  },
  {
   "cell_type": "code",
   "execution_count": 16,
   "id": "89f9aa1b",
   "metadata": {},
   "outputs": [
    {
     "data": {
      "image/png": "[encoded data removed]",
      "text/plain": [
       "<Figure size 864x576 with 1 Axes>"
      ]
     },
     "metadata": {
      "needs_background": "light"
     },
     "output_type": "display_data"
    }
   ],
   "source": [
    "plt.figure(figsize=(12, 8))\n",
    "ax = sns.barplot(x=Model,y=Accuracy);\n",
    "ax.set_title('Model Performance');\n",
    "ax.set_xlabel('Model')\n",
    "ax.set_ylabel('Accuracy Score ');\n",
    "plt.ylim(0.5,1);"
   ]
  },
  {
   "cell_type": "markdown",
   "id": "5f64bd11",
   "metadata": {},
   "source": [
    "### Model Evaluation"
   ]
  },
  {
   "cell_type": "code",
   "execution_count": 17,
   "id": "6773b3d4",
   "metadata": {},
   "outputs": [
    {
     "data": {
      "image/png": "[encoded data removed]",
      "text/plain": [
       "<Figure size 432x288 with 1 Axes>"
      ]
     },
     "metadata": {
      "needs_background": "light"
     },
     "output_type": "display_data"
    }
   ],
   "source": [
    "depth = [3,6,9,15,25]\n",
    "train_scores,test_scores = validation_curve(dt,\n",
    "                                            X_train, y_train,\n",
    "                                            param_name='max_depth',\n",
    "                                            scoring=\"accuracy\",\n",
    "                                            param_range=depth,\n",
    "                                            cv=3)\n",
    "mean_train_scores = np.mean(train_scores,axis=1)\n",
    "mean_test_scores = np.mean(test_scores,axis=1)\n",
    "\n",
    "fig,ax = plt.subplots(1,1)\n",
    "ax.plot(depth, mean_train_scores, 'o-', color='b',label='training score');\n",
    "ax.plot(depth, mean_test_scores, 'o-', color='r', label='validation score');\n",
    "ax.set_xlabel('max_depth'), ax.set_ylabel('ACC'); ax.set_title('Validation Curve for Decision Tree');\n",
    "ax.legend();"
   ]
  },
  {
   "cell_type": "code",
   "execution_count": 18,
   "id": "5b9e780d",
   "metadata": {},
   "outputs": [
    {
     "data": {
      "image/png": "[encoded data removed]",
      "text/plain": [
       "<Figure size 432x288 with 1 Axes>"
      ]
     },
     "metadata": {
      "needs_background": "light"
     },
     "output_type": "display_data"
    }
   ],
   "source": [
    "depth = [3,6,9,15,25]\n",
    "train_scores,test_scores = validation_curve(rf,\n",
    "                                            X_train, y_train,\n",
    "                                            param_name='max_depth',\n",
    "                                            scoring=\"accuracy\",\n",
    "                                            param_range=depth,\n",
    "                                            cv=3)\n",
    "mean_train_scores = np.mean(train_scores,axis=1)\n",
    "mean_test_scores = np.mean(test_scores,axis=1)\n",
    "\n",
    "fig,ax = plt.subplots(1,1)\n",
    "ax.plot(depth, mean_train_scores, 'o-', color='b',label='training score');\n",
    "ax.plot(depth, mean_test_scores, 'o-', color='r', label='validation score');\n",
    "ax.set_xlabel('max_depth'), ax.set_ylabel('ACC'); ax.set_title('Validation Curve for Random Forest');\n",
    "ax.legend();"
   ]
  },
  {
   "cell_type": "code",
   "execution_count": 19,
   "id": "abfe0394",
   "metadata": {},
   "outputs": [
    {
     "data": {
      "image/png": "[encoded data removed]",
      "text/plain": [
       "<Figure size 432x288 with 1 Axes>"
      ]
     },
     "metadata": {
      "needs_background": "light"
     },
     "output_type": "display_data"
    }
   ],
   "source": [
    "depth = [3,6,9,15,25]\n",
    "train_scores,test_scores = validation_curve(GradientBoostingClassifier(),\n",
    "                                            X_train, y_train,\n",
    "                                            param_name='max_depth',\n",
    "                                            scoring=\"accuracy\",\n",
    "                                            param_range=depth,\n",
    "                                            cv=3)\n",
    "mean_train_scores = np.mean(train_scores,axis=1)\n",
    "mean_test_scores = np.mean(test_scores,axis=1)\n",
    "\n",
    "fig,ax = plt.subplots(1,1)\n",
    "ax.plot(depth, mean_train_scores, 'o-', color='b',label='training score');\n",
    "ax.plot(depth, mean_test_scores, 'o-', color='r', label='validation score');\n",
    "ax.set_xlabel('max_depth'), ax.set_ylabel('ACC'); ax.set_title('Validation Curve for Random Forest with Gradient Boosting');\n",
    "ax.legend();"
   ]
  },
  {
   "cell_type": "code",
   "execution_count": 20,
   "id": "7f57c88a",
   "metadata": {},
   "outputs": [
    {
     "name": "stdout",
     "output_type": "stream",
     "text": [
      "sumpay        0.704781\n",
      "Bill_pca1     0.096402\n",
      "PAY_AMT2      0.028031\n",
      "Unnamed: 0    0.027561\n",
      "PAY_AMT3      0.027185\n",
      "LIMIT_BAL     0.026909\n",
      "PAY_AMT1      0.025102\n",
      "Bill_pca2     0.019759\n",
      "PAY_AMT4      0.012034\n",
      "PAY_AMT6      0.010117\n",
      "MARRIAGE      0.010054\n",
      "PAY_AMT5      0.005497\n",
      "age_new       0.002944\n",
      "EDUCATION     0.002482\n",
      "SEX           0.001141\n",
      "dtype: float64\n"
     ]
    },
    {
     "data": {
      "image/png": "[encoded data removed]",
      "text/plain": [
       "<Figure size 432x288 with 1 Axes>"
      ]
     },
     "metadata": {
      "needs_background": "light"
     },
     "output_type": "display_data"
    }
   ],
   "source": [
    "importances = pd.Series(gb.feature_importances_,X.columns).sort_values(ascending = False)\n",
    "print(importances)\n",
    "\n",
    "importances.sort_values(ascending=True)[-10:].plot.barh();"
   ]
  },
  {
   "cell_type": "code",
   "execution_count": 21,
   "id": "4d4a4508",
   "metadata": {},
   "outputs": [],
   "source": [
    "def plot_roc(curves):\n",
    "    fig,ax = plt.subplots(1,1,figsize=(6,6))\n",
    "    lw = 2\n",
    "    for fpr,tpr,model_name in curves:\n",
    "        l1, = ax.plot(fpr, tpr, lw=lw, label=model_name)\n",
    "    ax.plot([0, 1], [0, 1], color='k', lw=lw, linestyle='--')\n",
    "    ax.set_xlim([0.0, 1.0])\n",
    "    ax.set_ylim([0.0, 1.05])\n",
    "    ax.set_xlabel('False Positive Rate')\n",
    "    ax.set_ylabel('True Positive Rate')\n",
    "    ax.set_aspect('equal', 'box')\n",
    "    ax.set_title('Receiver operating characteristic example')\n",
    "    ax.legend()"
   ]
  },
  {
   "cell_type": "code",
   "execution_count": 22,
   "id": "da195c2f",
   "metadata": {},
   "outputs": [
    {
     "data": {
      "image/png": "[encoded data removed]",
      "text/plain": [
       "<Figure size 432x432 with 1 Axes>"
      ]
     },
     "metadata": {
      "needs_background": "light"
     },
     "output_type": "display_data"
    }
   ],
   "source": [
    "fpr_dtc, tpr_dtc, _ = roc_curve(y, gb.predict_proba(X)[:,-1])\n",
    "\n",
    "curves = [(fpr_dtc,tpr_dtc,'rf10')]\n",
    "dummyc = DummyClassifier(strategy='prior').fit(X,y)\n",
    "fpr_dummyc, tpr_dummyc, _ = roc_curve(y, dummyc.predict_proba(X)[:,1]) # Compare dummy\n",
    "curves.append((fpr_dummyc,tpr_dummyc,'dummy'));\n",
    "plot_roc(curves);"
   ]
  },
  {
   "cell_type": "code",
   "execution_count": 23,
   "id": "30ddcd80",
   "metadata": {},
   "outputs": [
    {
     "name": "stderr",
     "output_type": "stream",
     "text": [
      "/Users/Jessie/anaconda3/lib/python3.9/site-packages/sklearn/metrics/_classification.py:1248: UndefinedMetricWarning: Precision is ill-defined and being set to 0.0 due to no predicted samples. Use `zero_division` parameter to control this behavior.\n",
      "  _warn_prf(average, modifier, msg_start, len(result))\n",
      "/Users/Jessie/anaconda3/lib/python3.9/site-packages/sklearn/linear_model/_logistic.py:763: ConvergenceWarning: lbfgs failed to converge (status=1):\n",
      "STOP: TOTAL NO. of ITERATIONS REACHED LIMIT.\n",
      "\n",
      "Increase the number of iterations (max_iter) or scale the data as shown in:\n",
      "    https://scikit-learn.org/stable/modules/preprocessing.html\n",
      "Please also refer to the documentation for alternative solver options:\n",
      "    https://scikit-learn.org/stable/modules/linear_model.html#logistic-regression\n",
      "  n_iter_i = _check_optimize_result(\n",
      "/Users/Jessie/anaconda3/lib/python3.9/site-packages/sklearn/metrics/_classification.py:1248: UndefinedMetricWarning: Precision is ill-defined and being set to 0.0 due to no predicted samples. Use `zero_division` parameter to control this behavior.\n",
      "  _warn_prf(average, modifier, msg_start, len(result))\n",
      "/Users/Jessie/anaconda3/lib/python3.9/site-packages/sklearn/linear_model/_logistic.py:763: ConvergenceWarning: lbfgs failed to converge (status=1):\n",
      "STOP: TOTAL NO. of ITERATIONS REACHED LIMIT.\n",
      "\n",
      "Increase the number of iterations (max_iter) or scale the data as shown in:\n",
      "    https://scikit-learn.org/stable/modules/preprocessing.html\n",
      "Please also refer to the documentation for alternative solver options:\n",
      "    https://scikit-learn.org/stable/modules/linear_model.html#logistic-regression\n",
      "  n_iter_i = _check_optimize_result(\n",
      "/Users/Jessie/anaconda3/lib/python3.9/site-packages/sklearn/linear_model/_logistic.py:763: ConvergenceWarning: lbfgs failed to converge (status=1):\n",
      "STOP: TOTAL NO. of ITERATIONS REACHED LIMIT.\n",
      "\n",
      "Increase the number of iterations (max_iter) or scale the data as shown in:\n",
      "    https://scikit-learn.org/stable/modules/preprocessing.html\n",
      "Please also refer to the documentation for alternative solver options:\n",
      "    https://scikit-learn.org/stable/modules/linear_model.html#logistic-regression\n",
      "  n_iter_i = _check_optimize_result(\n",
      "/Users/Jessie/anaconda3/lib/python3.9/site-packages/sklearn/linear_model/_logistic.py:763: ConvergenceWarning: lbfgs failed to converge (status=1):\n",
      "STOP: TOTAL NO. of ITERATIONS REACHED LIMIT.\n",
      "\n",
      "Increase the number of iterations (max_iter) or scale the data as shown in:\n",
      "    https://scikit-learn.org/stable/modules/preprocessing.html\n",
      "Please also refer to the documentation for alternative solver options:\n",
      "    https://scikit-learn.org/stable/modules/linear_model.html#logistic-regression\n",
      "  n_iter_i = _check_optimize_result(\n"
     ]
    },
    {
     "name": "stdout",
     "output_type": "stream",
     "text": [
      "logistic regression precision  : 0.38 +- 0.62\n",
      "logistic regression recall     : 0.12 +- 0.20\n",
      "decision tree classifier precision  : 0.37 +- 0.01\n",
      "decision tree classifier recall     : 0.39 +- 0.02\n",
      "random forest classifier precision  : 0.61 +- 0.04\n",
      "random forest classifier recall     : 0.31 +- 0.01\n",
      "gradient boosting classifier precision  : 0.62 +- 0.04\n",
      "gradient boosting classifier recall     : 0.31 +- 0.02\n"
     ]
    }
   ],
   "source": [
    "# from sklearn.model_selection import cross_val_score\n",
    "# knn_precision_scores = cross_val_score(knn,X_train,y_train,cv=5,scoring='precision')\n",
    "# knn_recall_scores    = cross_val_score(knn,X_train,y_train,cv=5,scoring='recall')\n",
    "\n",
    "# print(f' K Nearest Neighbor precision  : {np.mean(knn_precision_scores):0.2f} +- {2*np.std(knn_precision_scores):0.2f}')\n",
    "# print(f'K Nearest Neighbor recall     : {np.mean(knn_recall_scores):0.2f} +- {2*np.std(knn_recall_scores):0.2f}')\n",
    "\n",
    "lr_precision_scores = cross_val_score(lr,X_train,y_train,cv=5,scoring='precision')\n",
    "lr_recall_scores    = cross_val_score(lr,X_train,y_train,cv=5,scoring='recall')\n",
    "\n",
    "print(f'logistic regression precision  : {np.mean(lr_precision_scores):0.2f} +- {2*np.std(lr_precision_scores):0.2f}')\n",
    "print(f'logistic regression recall     : {np.mean(lr_recall_scores):0.2f} +- {2*np.std(lr_recall_scores):0.2f}')\n",
    "\n",
    "\n",
    "dtc_precision_scores = cross_val_score(dt,X_train,y_train,cv=5,scoring='precision')\n",
    "dtc_recall_scores    = cross_val_score(dt,X_train,y_train,cv=5,scoring='recall')\n",
    "\n",
    "print(f'decision tree classifier precision  : {np.mean(dtc_precision_scores):0.2f} +- {2*np.std(dtc_precision_scores):0.2f}')\n",
    "print(f'decision tree classifier recall     : {np.mean(dtc_recall_scores):0.2f} +- {2*np.std(dtc_recall_scores):0.2f}')\n",
    "\n",
    "rf_precision_scores = cross_val_score(rf,X_train,y_train,cv=5,scoring='precision')\n",
    "rf_recall_scores    = cross_val_score(rf,X_train,y_train,cv=5,scoring='recall')\n",
    "\n",
    "print(f'random forest classifier precision  : {np.mean(rf_precision_scores):0.2f} +- {2*np.std(rf_precision_scores):0.2f}')\n",
    "print(f'random forest classifier recall     : {np.mean(rf_recall_scores):0.2f} +- {2*np.std(rf_recall_scores):0.2f}')\n",
    "\n",
    "\n",
    "gb_precision_scores = cross_val_score(gb,X_train,y_train,cv=5,scoring='precision')\n",
    "gb_recall_scores    = cross_val_score(gb,X_train,y_train,cv=5,scoring='recall')\n",
    "\n",
    "print(f'gradient boosting classifier precision  : {np.mean(gb_precision_scores):0.2f} +- {2*np.std(gb_precision_scores):0.2f}')\n",
    "print(f'gradient boosting classifier recall     : {np.mean(gb_recall_scores):0.2f} +- {2*np.std(gb_recall_scores):0.2f}')"
   ]
  },
  {
   "cell_type": "code",
   "execution_count": null,
   "id": "01da68ac",
   "metadata": {},
   "outputs": [],
   "source": []
  }
 ],
 "metadata": {
  "kernelspec": {
   "display_name": "Python 3 (ipykernel)",
   "language": "python",
   "name": "python3"
  },
  "language_info": {
   "codemirror_mode": {
    "name": "ipython",
    "version": 3
   },
   "file_extension": ".py",
   "mimetype": "text/x-python",
   "name": "python",
   "nbconvert_exporter": "python",
   "pygments_lexer": "ipython3",
   "version": "3.9.7"
  }
 },
 "nbformat": 4,
 "nbformat_minor": 5
}
